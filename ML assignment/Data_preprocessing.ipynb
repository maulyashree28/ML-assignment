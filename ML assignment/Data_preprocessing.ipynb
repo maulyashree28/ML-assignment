{
 "cells": [
  {
   "cell_type": "code",
   "execution_count": 3,
   "metadata": {},
   "outputs": [],
   "source": [
    "import pandas as pd\n",
    "from sklearn.preprocessing import MinMaxScaler"
   ]
  },
  {
   "cell_type": "code",
   "execution_count": 4,
   "metadata": {},
   "outputs": [],
   "source": [
    "\n",
    "data_path = \"C:/Users/shree/OneDrive/Desktop/ML assignment/global Hunger index.csv\"\n",
    "df = pd.read_csv(data_path, encoding='ISO-8859-1')"
   ]
  },
  {
   "cell_type": "code",
   "execution_count": 5,
   "metadata": {},
   "outputs": [],
   "source": [
    "\n",
    "df.replace(\"<5\", 4.9, inplace=True)\n",
    "columns_to_convert = ['2000', '2007', '2014', '2022', 'Absolute change', 'Percent change']\n",
    "for col in columns_to_convert:\n",
    "    if col in df.columns:\n",
    "        df[col] = pd.to_numeric(df[col], errors='coerce')\n",
    "df.fillna(df.mean(numeric_only=True), inplace=True)"
   ]
  },
  {
   "cell_type": "code",
   "execution_count": 6,
   "metadata": {},
   "outputs": [],
   "source": [
    "scaler = MinMaxScaler()\n",
    "scaled_columns = ['2000', '2007', '2014', '2022']\n",
    "df[scaled_columns] = scaler.fit_transform(df[scaled_columns])\n",
    "df['Avg Hunger Index'] = df[scaled_columns].mean(axis=1)\n",
    "df['Hunger Change'] = df['2022'] - df['2014']"
   ]
  },
  {
   "cell_type": "code",
   "execution_count": 7,
   "metadata": {},
   "outputs": [
    {
     "name": "stdout",
     "output_type": "stream",
     "text": [
      "     Rank in 2022                 Country      2000      2007      2014  \\\n",
      "0       63.372093                     NaN  0.304330  0.255054  0.177767   \n",
      "1        1.000000                 Belarus  0.049495  0.049495  0.000000   \n",
      "2        1.000000  Bosnia and Herzegovina  0.093939  0.066667  0.000000   \n",
      "3        1.000000                   Chile  0.049495  0.049495  0.000000   \n",
      "4        1.000000                   China  0.134343  0.078788  0.000000   \n",
      "..            ...                     ...       ...       ...       ...   \n",
      "125    121.000000                   Yemen  0.417172  0.387879  0.391073   \n",
      "126    121.000000                 Burundi  1.000000  1.000000  1.000000   \n",
      "127    121.000000                 Somalia  1.000000  1.000000  1.000000   \n",
      "128    121.000000             South Sudan  1.000000  1.000000  1.000000   \n",
      "129    121.000000                   Syria  1.000000  1.000000  1.000000   \n",
      "\n",
      "         2022  Absolute change  Percent change  Avg Hunger Index  \\\n",
      "0    0.263373        -0.949612       -4.262205          0.250131   \n",
      "1    0.000000         0.000000        0.000000          0.024747   \n",
      "2    0.000000         0.000000        0.000000          0.040152   \n",
      "3    0.000000         0.000000        0.000000          0.024747   \n",
      "4    0.000000         0.000000        0.000000          0.053283   \n",
      "..        ...              ...             ...               ...   \n",
      "125  1.000000         3.400000        8.200000          0.549031   \n",
      "126  0.263373         0.000000        0.000000          0.815843   \n",
      "127  0.263373         0.000000        0.000000          0.815843   \n",
      "128  0.263373         0.000000        0.000000          0.815843   \n",
      "129  0.263373         0.000000        0.000000          0.815843   \n",
      "\n",
      "     Hunger Change  \n",
      "0         0.085606  \n",
      "1         0.000000  \n",
      "2         0.000000  \n",
      "3         0.000000  \n",
      "4         0.000000  \n",
      "..             ...  \n",
      "125       0.608927  \n",
      "126      -0.736627  \n",
      "127      -0.736627  \n",
      "128      -0.736627  \n",
      "129      -0.736627  \n",
      "\n",
      "[130 rows x 10 columns]\n"
     ]
    }
   ],
   "source": [
    "print(df)"
   ]
  }
 ],
 "metadata": {
  "kernelspec": {
   "display_name": "Python 3",
   "language": "python",
   "name": "python3"
  },
  "language_info": {
   "codemirror_mode": {
    "name": "ipython",
    "version": 3
   },
   "file_extension": ".py",
   "mimetype": "text/x-python",
   "name": "python",
   "nbconvert_exporter": "python",
   "pygments_lexer": "ipython3",
   "version": "3.12.0"
  }
 },
 "nbformat": 4,
 "nbformat_minor": 2
}
